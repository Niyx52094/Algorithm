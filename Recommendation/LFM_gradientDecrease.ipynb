{
 "cells": [
  {
   "cell_type": "markdown",
   "metadata": {},
   "source": [
    "# LFM_梯度下降算法实现"
   ]
  },
  {
   "cell_type": "code",
   "execution_count": 66,
   "metadata": {},
   "outputs": [],
   "source": [
    "import numpy as np\n",
    "import pandas as pd\n",
    "from matplotlib import pyplot as plt"
   ]
  },
  {
   "cell_type": "code",
   "execution_count": 26,
   "metadata": {},
   "outputs": [
    {
     "data": {
      "text/plain": [
       "(6, 5)"
      ]
     },
     "execution_count": 26,
     "metadata": {},
     "output_type": "execute_result"
    }
   ],
   "source": [
    "#评分矩阵\n",
    "R=np.array([[4,0,2,0,1],\n",
    "           [0,2,3,0,0],\n",
    "           [1,0,2,4,0],\n",
    "           [5,0,0,3,1],\n",
    "           [0,0,1,5,1],\n",
    "           [0,3,2,4,1],])\n",
    "R.shape"
   ]
  },
  {
   "cell_type": "markdown",
   "metadata": {},
   "source": [
    "## 算法实现"
   ]
  },
  {
   "cell_type": "code",
   "execution_count": 42,
   "metadata": {},
   "outputs": [],
   "source": [
    "\"\"\"\n",
    "输入参数：\n",
    "R:评分矩阵\n",
    "K：隐式向量维度个数\n",
    "steps：最大迭代次数\n",
    "lr：学习率,步长\n",
    "lamda：正则化系数\n",
    "\n",
    "输出：\n",
    "\n",
    "p：用户特征矩阵M*K\n",
    "q：物品特征举证K*N\n",
    "\"\"\"\n",
    "\n",
    "#给定超参数\n",
    "\n",
    "K=2\n",
    "max_iter=5000\n",
    "lr=0.0002\n",
    "lamda=0.004\n"
   ]
  },
  {
   "cell_type": "code",
   "execution_count": 59,
   "metadata": {},
   "outputs": [],
   "source": [
    "#核心算法\n",
    "\n",
    "def LFM_grad_desc(R,K,max_iter,lr,lamda):\n",
    "    #基本维度参数定义\n",
    "    M=R.shape[0]\n",
    "    N=R.shape[1]\n",
    "    #p,q初始值，随机生成\n",
    "    P=np.random.rand(M,K)\n",
    "    Q=np.random.rand(N,K)\n",
    "    Q=Q.T\n",
    "    #开始迭代\n",
    "    lost=[]\n",
    "    for step in range(max_iter):\n",
    "        #对所有用户u，物品i做遍历，对应的特征向量Pu，Qi梯度下降\n",
    "        for u in range(M):\n",
    "            for i in range(N):\n",
    "                #对于每一个大于零的评分，求出预测评分误差\n",
    "                if R[u][i]>0:\n",
    "                    eui=np.dot(P[u,:],Q[:,i])-R[u][i]\n",
    "                    #带入公式，更新按照梯度下降算法Pu,Qi\n",
    "                    for k in range(K):\n",
    "                        P[u][k]=P[u][k]-lr*(2*eui*Q[k][i]+2*lamda*P[u][k])\n",
    "                        Q[k][i]=Q[k][i]-lr*(2*eui*P[u][k]+2*lamda*Q[k][i])\n",
    "        #u,i 遍历完成，所有特征向量更新完成\n",
    "        predR=np.dot(P,Q)\n",
    "    \n",
    "        #计算当前损失函数\n",
    "        cost =0\n",
    "        for u in range(M):\n",
    "            for i in range(N):\n",
    "                if R[u][i]>0:\n",
    "                    cost+=(np.dot(P[u,:],Q[:,i])-R[u][i])**2\n",
    "                    #加上正则化项\n",
    "                    for k in range(K):\n",
    "                        cost+=lamda*(P[u][k]**2+Q[k][i]**2)\n",
    "        lost.append(cost)\n",
    "        if cost<0.00001:\n",
    "            break\n",
    "\n",
    "    return P,Q.T,cost,lost"
   ]
  },
  {
   "cell_type": "code",
   "execution_count": 60,
   "metadata": {},
   "outputs": [],
   "source": [
    "P,Q,cost,lost=LFM_grad_desc(R,K,max_iter,lr,lamda)"
   ]
  },
  {
   "cell_type": "code",
   "execution_count": 61,
   "metadata": {},
   "outputs": [
    {
     "data": {
      "text/plain": [
       "array([[ 3.96122685,  3.49744906,  1.92028752,  5.1040948 ,  1.09408442],\n",
       "       [ 0.15087392,  2.0838956 ,  2.90931092,  4.14917501,  0.68755964],\n",
       "       [ 1.09086021,  2.15488718,  2.26153652,  3.82170061,  0.69589033],\n",
       "       [ 4.99890829,  2.73044834, -0.02392616,  3.02870184,  0.82337161],\n",
       "       [ 5.26106889,  3.70092989,  1.17764119,  4.86475896,  1.14047387],\n",
       "       [ 2.98435648,  2.8358166 ,  1.73877626,  4.25261591,  0.89078302]])"
      ]
     },
     "execution_count": 61,
     "metadata": {},
     "output_type": "execute_result"
    }
   ],
   "source": [
    "R_hat=np.dot(P,Q.T)\n",
    "R_hat"
   ]
  },
  {
   "cell_type": "code",
   "execution_count": 62,
   "metadata": {},
   "outputs": [
    {
     "data": {
      "text/plain": [
       "array([[ 2.54779534, -0.0527286 ],\n",
       "       [ 1.42119268,  1.09137533],\n",
       "       [ 0.03078986,  1.62891636],\n",
       "       [ 1.60357707,  2.23907038],\n",
       "       [ 0.42943702,  0.36221481]])"
      ]
     },
     "execution_count": 62,
     "metadata": {},
     "output_type": "execute_result"
    }
   ],
   "source": [
    "Q"
   ]
  },
  {
   "cell_type": "code",
   "execution_count": 63,
   "metadata": {},
   "outputs": [
    {
     "data": {
      "text/plain": [
       "array([[ 1.5785467 ,  1.14903646],\n",
       "       [ 0.09614333,  1.7842234 ],\n",
       "       [ 0.45671319,  1.37973591],\n",
       "       [ 1.96098142, -0.05175496],\n",
       "       [ 2.07909845,  0.68366067],\n",
       "       [ 1.19297348,  1.04489391]])"
      ]
     },
     "execution_count": 63,
     "metadata": {},
     "output_type": "execute_result"
    }
   ],
   "source": [
    "P"
   ]
  },
  {
   "cell_type": "code",
   "execution_count": 64,
   "metadata": {},
   "outputs": [
    {
     "data": {
      "text/plain": [
       "0.9366008639016854"
      ]
     },
     "execution_count": 64,
     "metadata": {},
     "output_type": "execute_result"
    }
   ],
   "source": [
    "cost"
   ]
  },
  {
   "cell_type": "code",
   "execution_count": 72,
   "metadata": {},
   "outputs": [
    {
     "data": {
      "text/plain": [
       "[<matplotlib.lines.Line2D at 0x21061f56788>]"
      ]
     },
     "execution_count": 72,
     "metadata": {},
     "output_type": "execute_result"
    },
    {
     "data": {
      "image/png": "[encoded data removed]",
      "text/plain": [
       "<Figure size 432x288 with 1 Axes>"
      ]
     },
     "metadata": {
      "needs_background": "light"
     },
     "output_type": "display_data"
    }
   ],
   "source": [
    "plt.figure\n",
    "plt.plot(range(len(lost)),lost)"
   ]
  },
  {
   "cell_type": "code",
   "execution_count": null,
   "metadata": {},
   "outputs": [],
   "source": []
  }
 ],
 "metadata": {
  "kernelspec": {
   "display_name": "Python 3",
   "language": "python",
   "name": "python3"
  },
  "language_info": {
   "codemirror_mode": {
    "name": "ipython",
    "version": 3
   },
   "file_extension": ".py",
   "mimetype": "text/x-python",
   "name": "python",
   "nbconvert_exporter": "python",
   "pygments_lexer": "ipython3",
   "version": "3.7.6"
  }
 },
 "nbformat": 4,
 "nbformat_minor": 4
}
