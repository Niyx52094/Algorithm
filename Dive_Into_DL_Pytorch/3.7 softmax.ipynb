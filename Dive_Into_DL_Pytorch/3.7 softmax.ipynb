{
 "cells": [
  {
   "cell_type": "code",
   "execution_count": 38,
   "metadata": {},
   "outputs": [],
   "source": [
    "import torch\n",
    "from torch import nn\n",
    "from torch.nn import init\n",
    "import numpy as np\n",
    "import sys\n",
    "sys.path.append(\"D:\\CS\\MachineLearning\\Dive-into-DL-PyTorch-master\\code\") # 为了导入上层目录的d2lzh_pytorch\n",
    "import d2lzh_pytorch as d2l"
   ]
  },
  {
   "cell_type": "code",
   "execution_count": 39,
   "metadata": {},
   "outputs": [
    {
     "data": {
      "text/plain": [
       "'class LinearNet(nn.Module):\\n    def __init__(self,num_inputs,num_outputs):\\n        super(LinearNet,self).__init__()\\n        self.Linear=nn.Linear(num_inputs,num_outputs)\\n    def forward(self,x):\\n        y=self.Linear(x.view(x.shape[0],-1))\\n        return y\\nnet=LinearNet(num_inputs,num_outputs)'"
      ]
     },
     "execution_count": 39,
     "metadata": {},
     "output_type": "execute_result"
    }
   ],
   "source": [
    "num_inputs=784\n",
    "num_outputs=10\n",
    "\n",
    "batch_size = 256\n",
    "train_iter, test_iter=d2l.load_data_fashion_mnist(batch_size)\n",
    "\n",
    "'''class LinearNet(nn.Module):\n",
    "    def __init__(self,num_inputs,num_outputs):\n",
    "        super(LinearNet,self).__init__()\n",
    "        self.Linear=nn.Linear(num_inputs,num_outputs)\n",
    "    def forward(self,x):\n",
    "        y=self.Linear(x.view(x.shape[0],-1))\n",
    "        return y\n",
    "net=LinearNet(num_inputs,num_outputs)'''"
   ]
  },
  {
   "cell_type": "code",
   "execution_count": 40,
   "metadata": {},
   "outputs": [],
   "source": [
    "class FlattenLayer(nn.Module):\n",
    "    def __init__(self):\n",
    "        super(FlattenLayer, self).__init__()\n",
    "    def forward(self,x): # x shape: (batch, *, *, ...)\n",
    "        return x.view(x.shape[0],-1)"
   ]
  },
  {
   "cell_type": "code",
   "execution_count": 41,
   "metadata": {},
   "outputs": [
    {
     "name": "stdout",
     "output_type": "stream",
     "text": [
      "Sequential(\n",
      "  (flatten): FlattenLayer()\n",
      "  (linear): Linear(in_features=784, out_features=10, bias=True)\n",
      ")\n"
     ]
    }
   ],
   "source": [
    "from collections import OrderedDict\n",
    "\n",
    "net = nn.Sequential(\n",
    "    # FlattenLayer(),\n",
    "    # nn.Linear(num_inputs, num_outputs)\n",
    "    OrderedDict([\n",
    "        ('flatten', FlattenLayer()),\n",
    "        ('linear', nn.Linear(num_inputs, num_outputs))\n",
    "    ])\n",
    ")\n",
    "print(net)"
   ]
  },
  {
   "cell_type": "code",
   "execution_count": 42,
   "metadata": {},
   "outputs": [
    {
     "name": "stdout",
     "output_type": "stream",
     "text": [
      "Parameter containing:\n",
      "tensor([[-0.0221,  0.0029, -0.0267,  ..., -0.0221, -0.0153, -0.0083],\n",
      "        [ 0.0126, -0.0072,  0.0337,  ...,  0.0310, -0.0351, -0.0034],\n",
      "        [-0.0160,  0.0065,  0.0255,  ...,  0.0190, -0.0106,  0.0162],\n",
      "        ...,\n",
      "        [-0.0271,  0.0342,  0.0320,  ...,  0.0270, -0.0152,  0.0316],\n",
      "        [ 0.0185,  0.0214, -0.0094,  ..., -0.0167, -0.0096, -0.0194],\n",
      "        [ 0.0131, -0.0007, -0.0142,  ..., -0.0015,  0.0023, -0.0133]],\n",
      "       requires_grad=True)\n",
      "Parameter containing:\n",
      "tensor([ 0.0289,  0.0226, -0.0097,  0.0292,  0.0284, -0.0183, -0.0173,  0.0138,\n",
      "        -0.0226, -0.0137], requires_grad=True)\n"
     ]
    }
   ],
   "source": [
    "for param in net.parameters():\n",
    "    print(param)"
   ]
  },
  {
   "cell_type": "code",
   "execution_count": 43,
   "metadata": {},
   "outputs": [
    {
     "data": {
      "text/plain": [
       "Parameter containing:\n",
       "tensor([0., 0., 0., 0., 0., 0., 0., 0., 0., 0.], requires_grad=True)"
      ]
     },
     "execution_count": 43,
     "metadata": {},
     "output_type": "execute_result"
    }
   ],
   "source": [
    "init.normal_(net[1].weight,mean=0,std=0.01)\n",
    "init.constant_(net[1].bias,val=0)"
   ]
  },
  {
   "cell_type": "code",
   "execution_count": 44,
   "metadata": {},
   "outputs": [],
   "source": [
    "loss=nn.CrossEntropyLoss()"
   ]
  },
  {
   "cell_type": "code",
   "execution_count": 45,
   "metadata": {},
   "outputs": [],
   "source": [
    "optimizer=torch.optim.SGD(net.parameters(),lr=0.1)"
   ]
  },
  {
   "cell_type": "code",
   "execution_count": 46,
   "metadata": {},
   "outputs": [
    {
     "name": "stdout",
     "output_type": "stream",
     "text": [
      "epoch 1, loss 0.0031, train acc 0.749, test acc 0.790\n",
      "epoch 2, loss 0.0022, train acc 0.812, test acc 0.800\n",
      "epoch 3, loss 0.0021, train acc 0.826, test acc 0.797\n",
      "epoch 4, loss 0.0020, train acc 0.833, test acc 0.821\n",
      "epoch 5, loss 0.0019, train acc 0.837, test acc 0.820\n"
     ]
    }
   ],
   "source": [
    "num_epochs=5\n",
    "d2l.train_ch3(net, train_iter, test_iter, loss, num_epochs, batch_size, None, None, optimizer)"
   ]
  },
  {
   "cell_type": "code",
   "execution_count": null,
   "metadata": {},
   "outputs": [],
   "source": []
  }
 ],
 "metadata": {
  "kernelspec": {
   "display_name": "Python 3",
   "language": "python",
   "name": "python3"
  },
  "language_info": {
   "codemirror_mode": {
    "name": "ipython",
    "version": 3
   },
   "file_extension": ".py",
   "mimetype": "text/x-python",
   "name": "python",
   "nbconvert_exporter": "python",
   "pygments_lexer": "ipython3",
   "version": "3.7.6"
  }
 },
 "nbformat": 4,
 "nbformat_minor": 4
}
